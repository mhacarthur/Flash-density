{
 "cells": [
  {
   "cell_type": "code",
   "execution_count": 1,
   "metadata": {},
   "outputs": [],
   "source": [
    "import os\n",
    "import numpy as np\n",
    "import pandas as pd\n",
    "import clima_anom as ca\n",
    "import cartopy\n",
    "import cartopy.crs as ccrs\n",
    "import matplotlib.pyplot as plt"
   ]
  },
  {
   "cell_type": "code",
   "execution_count": 2,
   "metadata": {},
   "outputs": [],
   "source": [
    "Ano = '2018'\n",
    "Mes = '03'"
   ]
  },
  {
   "cell_type": "code",
   "execution_count": 5,
   "metadata": {},
   "outputs": [],
   "source": [
    "for d in range(31):\n",
    "    \n",
    "    Dia = (\"{:02d}\".format(d+1))\n",
    "    # print(Dia)\n",
    "\n",
    "    for h in range(24):\n",
    "\n",
    "        Hora = (\"{:02d}\".format(h))\n",
    "\n",
    "        for m in range(12):\n",
    "\n",
    "            if m == 0:\n",
    "                Min_s = '00'\n",
    "            elif m == 1:\n",
    "                Min_s = '05'\n",
    "            elif m == 2:\n",
    "                Min_s = '10'\n",
    "            elif m == 3:\n",
    "                Min_s = '15'\n",
    "            elif m == 4:\n",
    "                Min_s = '20'\n",
    "            elif m == 5:\n",
    "                Min_s = '25'\n",
    "            elif m == 6:\n",
    "                Min_s = '30'\n",
    "            elif m == 7:\n",
    "                Min_s = '35'\n",
    "            elif m == 8:\n",
    "                Min_s = '40'\n",
    "            elif m == 9:\n",
    "                Min_s = '45'\n",
    "            elif m == 10:\n",
    "                Min_s = '50'\n",
    "            elif m == 11:\n",
    "                Min_s = '55'\n",
    "\n",
    "            data_dir = '/run/media/arturo/Arturo/Trabajo/Programacion/Python/Brasildat/Data/point/5min/'\n",
    "            file_dir = Ano+'_'+Mes+'_'+Dia+'_'+Hora+'_'+Min_s+'_new.csv'\n",
    "            \n",
    "            if os.path.isfile(data_dir+file_dir): \n",
    "                # print('     ',Hora,Min_s,'Existe')\n",
    "                continue\n",
    "            else:\n",
    "                file_out = pd.DataFrame({'dia':Dia,'hora':Hora,'minuto':Min_s,'Lat':[0],'Lon':[0]})\n",
    "                salida  = Ano+'_'+Mes+'_'+Dia+'_'+Hora+'_'+Min_s+'_new.csv'\n",
    "                print('     ',Hora,Min_s,'No existe, Creando',salida)\n",
    "                file_out.to_csv(data_dir + salida, index = False) "
   ]
  },
  {
   "cell_type": "code",
   "execution_count": null,
   "metadata": {},
   "outputs": [],
   "source": []
  }
 ],
 "metadata": {
  "kernelspec": {
   "display_name": "Python 3",
   "language": "python",
   "name": "python3"
  },
  "language_info": {
   "codemirror_mode": {
    "name": "ipython",
    "version": 3
   },
   "file_extension": ".py",
   "mimetype": "text/x-python",
   "name": "python",
   "nbconvert_exporter": "python",
   "pygments_lexer": "ipython3",
   "version": "3.9.7"
  }
 },
 "nbformat": 4,
 "nbformat_minor": 4
}
