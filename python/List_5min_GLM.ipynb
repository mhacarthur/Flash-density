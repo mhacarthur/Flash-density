{
 "cells": [
  {
   "cell_type": "code",
   "execution_count": 6,
   "metadata": {},
   "outputs": [],
   "source": [
    "import glob\n",
    "import numpy as np\n",
    "import pandas as pd\n",
    "import clima_anom as ca\n",
    "import cartopy\n",
    "import cartopy.feature as feature\n",
    "import cartopy.crs as ccrs\n",
    "import matplotlib.pyplot as plt\n",
    "from netCDF4 import Dataset"
   ]
  },
  {
   "cell_type": "code",
   "execution_count": 7,
   "metadata": {},
   "outputs": [],
   "source": [
    "# so = 'manjaro'\n",
    "so = 'xubuntu'"
   ]
  },
  {
   "cell_type": "code",
   "execution_count": 8,
   "metadata": {},
   "outputs": [
    {
     "name": "stdout",
     "output_type": "stream",
     "text": [
      "so  : xubuntu\n",
      "base: /media/\n"
     ]
    }
   ],
   "source": [
    "if so == 'xubuntu':\n",
    "    base = '/media/'\n",
    "elif so == 'manjaro':\n",
    "    base = '/run/media/'\n",
    "print(f'so  : {so}')\n",
    "print(f'base: {base}')"
   ]
  },
  {
   "cell_type": "code",
   "execution_count": 10,
   "metadata": {},
   "outputs": [],
   "source": [
    "Ano = '2018'\n",
    "Mes = '03'\n",
    "Num_dias = 31"
   ]
  },
  {
   "cell_type": "code",
   "execution_count": 5,
   "metadata": {},
   "outputs": [
    {
     "name": "stdout",
     "output_type": "stream",
     "text": [
      "Region: Sao_paulo\n"
     ]
    }
   ],
   "source": [
    "# Region = 'America_sul'\n",
    "Region = 'Sao_paulo'\n",
    "\n",
    "print(f'Region: {Region}')"
   ]
  },
  {
   "cell_type": "code",
   "execution_count": 21,
   "metadata": {},
   "outputs": [
    {
     "name": "stdout",
     "output_type": "stream",
     "text": [
      "Dia:  01\n",
      "Hora:  00\n",
      "Minutes 0-5\n",
      "Minutes 5-10\n",
      "Minutes 10-15\n",
      "Minutes 15-20\n",
      "Minutes 20-25\n",
      "Minutes 25-30\n",
      "Minutes 30-35\n",
      "Minutes 35-40\n",
      "Minutes 40-45\n",
      "Minutes 45-50\n",
      "Minutes 50-55\n",
      "Minutes 55-60\n"
     ]
    }
   ],
   "source": [
    "for d in range(1):\n",
    "    \n",
    "    Dia = (\"{:02d}\".format(d+1))\n",
    "    print('Dia: ',Dia)\n",
    "    \n",
    "    filename = base + 'arturo/Seagate Expansion Drive/GLM/Data/' + Ano + '/' + Mes + '/basic/'+Dia+'/Data_GOES_'+Dia+'.txt'\n",
    "    # Total_list = pd.read_csv(filename,header=None,delimiter=';')\n",
    "    # GLM_list = Total_list[1]\n",
    "    \n",
    "    DIR = base + 'arturo/Seagate Expansion Drive/GLM/Data/'+Ano+'/'+Mes+'/basic/'+Dia+'/'\n",
    "\n",
    "    for h in range(1):\n",
    "        Hora = (\"{:02d}\".format(h))\n",
    "        print('Hora: ',Hora)\n",
    "        \n",
    "        for frac in range(12):\n",
    "\n",
    "            Mref_s = 5*frac\n",
    "            Mref_e = 5*frac + 5\n",
    "        \n",
    "#             print('Minuto: ',Mref_s)\n",
    "            \n",
    "            print(f'Minutes {Mref_s}-{Mref_e}')\n",
    "\n",
    "            lista = []\n",
    "\n",
    "            for nn in range(len(GLM_list)):\n",
    "                \n",
    "                data = \n",
    "                date_complete = date.split('_')\n",
    "\n",
    "                time_s = date_complete[0]\n",
    "                hour_s = time_s[7:9]\n",
    "                minu_s = time_s[9:11]\n",
    "\n",
    "                time_e = date_complete[1]\n",
    "                hour_e = time_e[7:9]\n",
    "                minu_e = time_e[9:11]\n",
    "\n",
    "                minu_d = int(minu_s)\n",
    "                Mref_salida = (\"{:02d}\".format(Mref_s))\n",
    "\n",
    "                if hour_s == Hora:\n",
    "\n",
    "                    if minu_d >= Mref_s and minu_d < Mref_e:\n",
    "                        \n",
    "                        lista.append(DIR+GLM_list[nn][24:])\n",
    "\n",
    "                    export = pd.DataFrame({'File':lista})\n",
    "\n",
    "                    # salida = '../Data/list/list_5min/Lista'+Ano+'_'+Mes+'_'+Dia+'_'+Hora+'_'+Mref_salida+'.csv'\n",
    "                    # export.to_csv(salida, index = None, header=True)"
   ]
  },
  {
   "cell_type": "code",
   "execution_count": 23,
   "metadata": {},
   "outputs": [
    {
     "data": {
      "text/plain": [
       "['s20180602359400', 'e20180610000000', 'c20180610000026.nc']"
      ]
     },
     "execution_count": 23,
     "metadata": {},
     "output_type": "execute_result"
    }
   ],
   "source": [
    "date_complete = date.split('_')\n",
    "date_complete"
   ]
  },
  {
   "cell_type": "code",
   "execution_count": 26,
   "metadata": {},
   "outputs": [
    {
     "data": {
      "text/plain": [
       "'s20180602359400'"
      ]
     },
     "execution_count": 26,
     "metadata": {},
     "output_type": "execute_result"
    }
   ],
   "source": [
    "time_s = date_complete[0]\n",
    "time_s"
   ]
  },
  {
   "cell_type": "code",
   "execution_count": 31,
   "metadata": {},
   "outputs": [
    {
     "data": {
      "text/plain": [
       "('02', '00')"
      ]
     },
     "execution_count": 31,
     "metadata": {},
     "output_type": "execute_result"
    }
   ],
   "source": [
    "time_s[7:9],time_e[7:9]"
   ]
  },
  {
   "cell_type": "code",
   "execution_count": 29,
   "metadata": {},
   "outputs": [
    {
     "data": {
      "text/plain": [
       "'35'"
      ]
     },
     "execution_count": 29,
     "metadata": {},
     "output_type": "execute_result"
    }
   ],
   "source": [
    "time_s[9:11]"
   ]
  },
  {
   "cell_type": "code",
   "execution_count": 30,
   "metadata": {},
   "outputs": [
    {
     "data": {
      "text/plain": [
       "'94'"
      ]
     },
     "execution_count": 30,
     "metadata": {},
     "output_type": "execute_result"
    }
   ],
   "source": [
    "time_s[11:13]"
   ]
  },
  {
   "cell_type": "code",
   "execution_count": null,
   "metadata": {},
   "outputs": [],
   "source": []
  }
 ],
 "metadata": {
  "interpreter": {
   "hash": "c6c4883052875ec3257edf99ee092a790b9a432228222ee7e742d4f8a559e5a8"
  },
  "kernelspec": {
   "display_name": "Python 3.9.7 64-bit ('AXE': conda)",
   "language": "python",
   "name": "python3"
  },
  "language_info": {
   "codemirror_mode": {
    "name": "ipython",
    "version": 3
   },
   "file_extension": ".py",
   "mimetype": "text/x-python",
   "name": "python",
   "nbconvert_exporter": "python",
   "pygments_lexer": "ipython3",
   "version": "3.9.7"
  },
  "orig_nbformat": 4
 },
 "nbformat": 4,
 "nbformat_minor": 2
}
