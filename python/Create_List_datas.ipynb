{
 "cells": [
  {
   "cell_type": "code",
   "execution_count": 1,
   "metadata": {},
   "outputs": [],
   "source": [
    "import os\n",
    "import numpy as np\n",
    "import pandas as pd\n",
    "import clima_anom as ca\n",
    "import cartopy\n",
    "import cartopy.crs as ccrs\n",
    "import matplotlib.pyplot as plt"
   ]
  },
  {
   "cell_type": "code",
   "execution_count": 2,
   "metadata": {},
   "outputs": [],
   "source": [
    "# so = 'manjaro'\n",
    "so = 'xubuntu'"
   ]
  },
  {
   "cell_type": "code",
   "execution_count": 4,
   "metadata": {},
   "outputs": [
    {
     "name": "stdout",
     "output_type": "stream",
     "text": [
      "so  : xubuntu\n",
      "base: /media/\n"
     ]
    }
   ],
   "source": [
    "if so == 'xubuntu':\n",
    "    base = '/media/'\n",
    "elif so == 'manjaro':\n",
    "    base = '/run/media/'\n",
    "print(f'so  : {so}')\n",
    "print(f'base: {base}')"
   ]
  },
  {
   "cell_type": "code",
   "execution_count": 5,
   "metadata": {},
   "outputs": [],
   "source": [
    "Ano = '2018'\n",
    "Mes = '03'"
   ]
  },
  {
   "cell_type": "code",
   "execution_count": 7,
   "metadata": {},
   "outputs": [],
   "source": [
    "datas = []\n",
    "for d in range(31):\n",
    "    \n",
    "    Dia = (\"{:02d}\".format(d+1))\n",
    "    # print(Dia)\n",
    "\n",
    "    for h in range(24):\n",
    "\n",
    "        Hora = (\"{:02d}\".format(h))\n",
    "\n",
    "        for m in range(12):\n",
    "\n",
    "            if m == 0:\n",
    "                Min_s = '00'\n",
    "            elif m == 1:\n",
    "                Min_s = '05'\n",
    "            elif m == 2:\n",
    "                Min_s = '10'\n",
    "            elif m == 3:\n",
    "                Min_s = '15'\n",
    "            elif m == 4:\n",
    "                Min_s = '20'\n",
    "            elif m == 5:\n",
    "                Min_s = '25'\n",
    "            elif m == 6:\n",
    "                Min_s = '30'\n",
    "            elif m == 7:\n",
    "                Min_s = '35'\n",
    "            elif m == 8:\n",
    "                Min_s = '40'\n",
    "            elif m == 9:\n",
    "                Min_s = '45'\n",
    "            elif m == 10:\n",
    "                Min_s = '50'\n",
    "            elif m == 11:\n",
    "                Min_s = '55'\n",
    "\n",
    "            data_dir = base + 'arturo/Arturo/Data/BrasilDat/Campinas/2018/point/'\n",
    "            data_name = Ano+'_'+Mes+'_'+Dia+'_'+Hora+'_'+Min_s+'.csv'\n",
    "            \n",
    "            datas.append(data_name)"
   ]
  },
  {
   "cell_type": "code",
   "execution_count": 10,
   "metadata": {},
   "outputs": [
    {
     "data": {
      "text/html": [
       "<div>\n",
       "<style scoped>\n",
       "    .dataframe tbody tr th:only-of-type {\n",
       "        vertical-align: middle;\n",
       "    }\n",
       "\n",
       "    .dataframe tbody tr th {\n",
       "        vertical-align: top;\n",
       "    }\n",
       "\n",
       "    .dataframe thead th {\n",
       "        text-align: right;\n",
       "    }\n",
       "</style>\n",
       "<table border=\"1\" class=\"dataframe\">\n",
       "  <thead>\n",
       "    <tr style=\"text-align: right;\">\n",
       "      <th></th>\n",
       "      <th>data</th>\n",
       "    </tr>\n",
       "  </thead>\n",
       "  <tbody>\n",
       "    <tr>\n",
       "      <th>0</th>\n",
       "      <td>2018_03_01_00_00.csv</td>\n",
       "    </tr>\n",
       "    <tr>\n",
       "      <th>1</th>\n",
       "      <td>2018_03_01_00_05.csv</td>\n",
       "    </tr>\n",
       "    <tr>\n",
       "      <th>2</th>\n",
       "      <td>2018_03_01_00_10.csv</td>\n",
       "    </tr>\n",
       "    <tr>\n",
       "      <th>3</th>\n",
       "      <td>2018_03_01_00_15.csv</td>\n",
       "    </tr>\n",
       "  </tbody>\n",
       "</table>\n",
       "</div>"
      ],
      "text/plain": [
       "                   data\n",
       "0  2018_03_01_00_00.csv\n",
       "1  2018_03_01_00_05.csv\n",
       "2  2018_03_01_00_10.csv\n",
       "3  2018_03_01_00_15.csv"
      ]
     },
     "execution_count": 10,
     "metadata": {},
     "output_type": "execute_result"
    }
   ],
   "source": [
    "file_out = pd.DataFrame({'data':datas})\n",
    "file_out.head(4)"
   ]
  },
  {
   "cell_type": "code",
   "execution_count": 13,
   "metadata": {},
   "outputs": [
    {
     "name": "stdout",
     "output_type": "stream",
     "text": [
      "/media/arturo/Arturo/Data/BrasilDat/Campinas/2018/list/list_datas_5min.csv\n"
     ]
    }
   ],
   "source": [
    "salida = base + 'arturo/Arturo/Data/BrasilDat/Campinas/2018/list/list_datas_5min.csv'\n",
    "print(salida)"
   ]
  },
  {
   "cell_type": "code",
   "execution_count": 14,
   "metadata": {},
   "outputs": [],
   "source": [
    "file_out.to_csv(salida, index = False, header = True) "
   ]
  }
 ],
 "metadata": {
  "interpreter": {
   "hash": "c6c4883052875ec3257edf99ee092a790b9a432228222ee7e742d4f8a559e5a8"
  },
  "kernelspec": {
   "display_name": "Python 3.9.7 64-bit ('AXE': conda)",
   "language": "python",
   "name": "python3"
  },
  "language_info": {
   "codemirror_mode": {
    "name": "ipython",
    "version": 3
   },
   "file_extension": ".py",
   "mimetype": "text/x-python",
   "name": "python",
   "nbconvert_exporter": "python",
   "pygments_lexer": "ipython3",
   "version": "3.9.7"
  },
  "orig_nbformat": 4
 },
 "nbformat": 4,
 "nbformat_minor": 2
}
