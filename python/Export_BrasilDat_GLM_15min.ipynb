{
 "cells": [
  {
   "cell_type": "code",
   "execution_count": 114,
   "metadata": {},
   "outputs": [],
   "source": [
    "import os\n",
    "import glob\n",
    "import math\n",
    "import pandas as pd\n",
    "import numpy as np\n",
    "\n",
    "from scipy.stats import pearsonr\n",
    "from sklearn.linear_model import LinearRegression\n",
    "from sklearn.model_selection import train_test_split\n",
    "\n",
    "import clima_anom as ca\n",
    "import cartopy\n",
    "import cartopy.crs as ccrs\n",
    "import cartopy.io.shapereader as shpreader\n",
    "import matplotlib.pyplot as plt\n",
    "import matplotlib.gridspec as gridspec\n",
    "\n",
    "%run ../function/function.ipynb"
   ]
  },
  {
   "cell_type": "code",
   "execution_count": 1,
   "metadata": {},
   "outputs": [],
   "source": [
    "# so = 'manjaro'\n",
    "so = 'xubuntu'"
   ]
  },
  {
   "cell_type": "code",
   "execution_count": 2,
   "metadata": {},
   "outputs": [
    {
     "name": "stdout",
     "output_type": "stream",
     "text": [
      "so  : xubuntu\n",
      "base: /media/\n"
     ]
    }
   ],
   "source": [
    "if so == 'xubuntu':\n",
    "    base = '/media/'\n",
    "elif so == 'manjaro':\n",
    "    base = '/run/media/'\n",
    "print(f'so  : {so}')\n",
    "print(f'base: {base}')"
   ]
  },
  {
   "cell_type": "code",
   "execution_count": 115,
   "metadata": {},
   "outputs": [],
   "source": [
    "shape = list(shpreader.Reader('../mappings/SaoPaulo_Fixed.shp').geometries())"
   ]
  },
  {
   "cell_type": "code",
   "execution_count": 116,
   "metadata": {},
   "outputs": [
    {
     "name": "stdout",
     "output_type": "stream",
     "text": [
      "lat : (45,)\n",
      "lon : (45,)\n",
      "time : (8928,)\n",
      "flash : (8928, 45, 45)\n"
     ]
    }
   ],
   "source": [
    "Brasildat_dir = base + 'arturo/Arturo/Data/BrasilDat/SP/BrasilDat_2018_03_5min_8kmx8km.nc'\n",
    "Brasildat = ca.read_netcdf(Brasildat_dir,2)\n",
    "lat = Brasildat['lat']\n",
    "lon = Brasildat['lon']\n",
    "time_B = Brasildat['time']\n",
    "flash_B = Brasildat['flash']\n",
    "\n",
    "lon2d, lat2d = np.meshgrid(lon,lat)\n",
    "nt, ny, nx = np.shape(flash_B)"
   ]
  },
  {
   "cell_type": "code",
   "execution_count": 117,
   "metadata": {},
   "outputs": [
    {
     "name": "stdout",
     "output_type": "stream",
     "text": [
      "lat : (45,)\n",
      "lon : (45,)\n",
      "time : (8928,)\n",
      "flash : (8928, 45, 45)\n"
     ]
    }
   ],
   "source": [
    "GLM_dir = base + 'arturo/Arturo/Data/GLM/SP/GLM_2018_03_5min_8kmx8km.nc'\n",
    "GLM = ca.read_netcdf(GLM_dir,2)\n",
    "flash_G = GLM['flash']"
   ]
  },
  {
   "cell_type": "markdown",
   "metadata": {},
   "source": [
    "## Cleaning data"
   ]
  },
  {
   "cell_type": "code",
   "execution_count": 118,
   "metadata": {},
   "outputs": [],
   "source": [
    "lat_c = -22.8611\n",
    "lon_c = -47.0563\n",
    "r = (180)/111"
   ]
  },
  {
   "cell_type": "code",
   "execution_count": 119,
   "metadata": {},
   "outputs": [],
   "source": [
    "Area_R = np.zeros([ny,nx])\n",
    "for i in range(ny):\n",
    "    for j in range(nx):\n",
    "        Dist = distancia(lat_c,lon_c,lat[i],lon[j])\n",
    "        if Dist <= 162:\n",
    "            Area_R[i,j] = 1"
   ]
  },
  {
   "cell_type": "code",
   "execution_count": 120,
   "metadata": {},
   "outputs": [],
   "source": [
    "G_new = np.zeros([nt,ny,nx])\n",
    "B_new = np.zeros([nt,ny,nx])\n",
    "for t in range(nt):\n",
    "    for i in range(ny):\n",
    "        for j in range(nx):\n",
    "            if Area_R[i,j] == 1:\n",
    "                G_new[t,i,j] = flash_G[t,i,j]\n",
    "                B_new[t,i,j] = flash_B[t,i,j]\n",
    "            else:\n",
    "                G_new[t,i,j] = np.nan\n",
    "                B_new[t,i,j] = np.nan"
   ]
  },
  {
   "cell_type": "markdown",
   "metadata": {},
   "source": [
    "## 15 mintues accumulated"
   ]
  },
  {
   "cell_type": "code",
   "execution_count": 124,
   "metadata": {},
   "outputs": [
    {
     "name": "stdout",
     "output_type": "stream",
     "text": [
      "2976\n"
     ]
    }
   ],
   "source": [
    "ntime = int(nt/3)\n",
    "print(ntime)\n",
    "flash_B_15 = np.zeros([ntime, ny, nx])\n",
    "flash_G_15 = np.zeros([ntime, ny, nx])\n",
    "for t in range(ntime):\n",
    "    # print(t,3*t,3*t+3)\n",
    "    flash_B_15[t,:,:] = np.sum(B_new[3*t:3*t+3,:,:],axis=0)\n",
    "    flash_G_15[t,:,:] = np.sum(G_new[3*t:3*t+3,:,:],axis=0)"
   ]
  },
  {
   "cell_type": "markdown",
   "metadata": {},
   "source": [
    "## BrasilDat Export netcdf"
   ]
  },
  {
   "cell_type": "code",
   "execution_count": 127,
   "metadata": {},
   "outputs": [
    {
     "name": "stdout",
     "output_type": "stream",
     "text": [
      "Brasildat shape: (2976, 45, 45)\n"
     ]
    }
   ],
   "source": [
    "print(f'Brasildat shape: {flash_B_15.shape}')\n",
    "info = {'file': base + 'arturo/Arturo/Datos/BrasilDat/SP/BrasilDat_2018_03_15min_8kmx8km.nc', # filename and directory\n",
    "        'title': 'Brasildat data 8km x 8km', # netcdf title\n",
    "        'year_start':2018,'month_start':3,'day_start':1,'hour_start':0,'minute_start':0, # time start (year,month,day,hour,minute)\n",
    "        'year_end':2018,'month_end':3,'day_end':31,'hour_end':23,'minute_end':59, # time end (year,month,day,hour,minute)\n",
    "        'time_frequency': 'Minutely', # options: Monthly, Daily, Hourly, Minutely\n",
    "        'time_interval':15,\n",
    "        'var_name': 'flash', # variable short name\n",
    "        'var_units': 'flash/196km2'} # variable units"
   ]
  },
  {
   "cell_type": "code",
   "execution_count": 128,
   "metadata": {},
   "outputs": [
    {
     "name": "stdout",
     "output_type": "stream",
     "text": [
      "Time Start: 2018-03-01 00:00:00\n",
      "Time End: 2018-03-31 23:45:00\n",
      "Time Frequency: Minutely\n",
      "Time Lenght: 2976\n",
      "\n",
      "File created in:  /media/arturo/Arturo/Datos/BrasilDat/SP/BrasilDat_2018_03_15min_8kmx8km.nc\n",
      "File title:  Brasildat data 8km x 8km\n",
      "var title:  flash\n",
      "var units:  flash/196km2\n"
     ]
    }
   ],
   "source": [
    "ca.create_netcdf(info,flash_B_15,lat,lon)"
   ]
  },
  {
   "cell_type": "markdown",
   "metadata": {},
   "source": [
    "## GLM Export netcdf"
   ]
  },
  {
   "cell_type": "code",
   "execution_count": 129,
   "metadata": {},
   "outputs": [
    {
     "name": "stdout",
     "output_type": "stream",
     "text": [
      "Brasildat shape: (2976, 45, 45)\n"
     ]
    }
   ],
   "source": [
    "print(f'Brasildat shape: {flash_G_15.shape}')\n",
    "info = {'file': base + 'arturo/Arturo/Datos/GLM/SP/GLM_2018_03_15min_8kmx8km.nc', # filename and directory\n",
    "        'title': 'GLM-flash data 8km x 8km', # netcdf title\n",
    "        'year_start':2018,'month_start':3,'day_start':1,'hour_start':0,'minute_start':0, # time start (year,month,day,hour,minute)\n",
    "        'year_end':2018,'month_end':3,'day_end':31,'hour_end':23,'minute_end':59, # time end (year,month,day,hour,minute)\n",
    "        'time_frequency': 'Minutely', # options: Monthly, Daily, Hourly, Minutely\n",
    "        'time_interval':15,\n",
    "        'var_name': 'flash', # variable short name\n",
    "        'var_units': 'flash/196km2'} # variable units"
   ]
  },
  {
   "cell_type": "code",
   "execution_count": 130,
   "metadata": {},
   "outputs": [
    {
     "name": "stdout",
     "output_type": "stream",
     "text": [
      "Time Start: 2018-03-01 00:00:00\n",
      "Time End: 2018-03-31 23:45:00\n",
      "Time Frequency: Minutely\n",
      "Time Lenght: 2976\n",
      "\n",
      "File created in:  /media/arturo/Arturo/Datos/GLM/SP/GLM_2018_03_15min_8kmx8km.nc\n",
      "File title:  GLM-flash data 8km x 8km\n",
      "var title:  flash\n",
      "var units:  flash/196km2\n"
     ]
    }
   ],
   "source": [
    "ca.create_netcdf(info,flash_G_15,lat,lon)"
   ]
  }
 ],
 "metadata": {
  "interpreter": {
   "hash": "c6c4883052875ec3257edf99ee092a790b9a432228222ee7e742d4f8a559e5a8"
  },
  "kernelspec": {
   "display_name": "Python 3.9.7 64-bit ('AXE': conda)",
   "language": "python",
   "name": "python3"
  },
  "language_info": {
   "codemirror_mode": {
    "name": "ipython",
    "version": 3
   },
   "file_extension": ".py",
   "mimetype": "text/x-python",
   "name": "python",
   "nbconvert_exporter": "python",
   "pygments_lexer": "ipython3",
   "version": "3.9.7"
  },
  "orig_nbformat": 4
 },
 "nbformat": 4,
 "nbformat_minor": 2
}
