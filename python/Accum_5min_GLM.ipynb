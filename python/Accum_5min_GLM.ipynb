{
 "cells": [
  {
   "cell_type": "code",
   "execution_count": 7,
   "metadata": {},
   "outputs": [],
   "source": [
    "import numpy as np\n",
    "import pandas as pd\n",
    "import clima_anom as ca\n",
    "import cartopy\n",
    "import cartopy.feature as feature\n",
    "import cartopy.crs as ccrs\n",
    "import matplotlib.pyplot as plt\n",
    "from netCDF4 import Dataset"
   ]
  },
  {
   "cell_type": "code",
   "execution_count": 12,
   "metadata": {},
   "outputs": [],
   "source": [
    "Ano = '2018'\n",
    "Mes = '03'\n",
    "data_dir = '/mnt/Data/Data/GLM/Campinas/list/list_5min/'\n",
    "data_out = '/mnt/Data/Data/GLM/Campinas/2018/point_5min/'"
   ]
  },
  {
   "cell_type": "code",
   "execution_count": 11,
   "metadata": {},
   "outputs": [
    {
     "name": "stdout",
     "output_type": "stream",
     "text": [
      "Region: Sao_paulo\n"
     ]
    }
   ],
   "source": [
    "# Region = 'America_sul'\n",
    "Region = 'Sao_paulo'\n",
    "\n",
    "print(f'Region: {Region}')"
   ]
  },
  {
   "cell_type": "code",
   "execution_count": 17,
   "metadata": {},
   "outputs": [
    {
     "name": "stdout",
     "output_type": "stream",
     "text": [
      "01\n",
      "02\n",
      "03\n",
      "04\n",
      "05\n",
      "06\n",
      "07\n",
      "08\n",
      "09\n",
      "10\n",
      "11\n",
      "12\n",
      "13\n",
      "14\n",
      "15\n",
      "16\n",
      "17\n",
      "18\n",
      "19\n",
      "20\n",
      "21\n",
      "22\n",
      "23\n",
      "24\n",
      "25\n",
      "26\n",
      "27\n",
      "28\n",
      "29\n",
      "30\n",
      "31\n"
     ]
    }
   ],
   "source": [
    "for d in range(31):\n",
    "    \n",
    "    Dia = (\"{:02d}\".format(d+1))\n",
    "    print(Dia)\n",
    "\n",
    "    for h in range(24):\n",
    "\n",
    "        Hora = (\"{:02d}\".format(h))\n",
    "\n",
    "        for m in range(12):\n",
    "\n",
    "            Minu = (\"{:02d}\".format(m))\n",
    "            Minu_s = 5*int(Minu)\n",
    "            Minu_s_s = (\"{:02d}\".format(Minu_s))\n",
    "            Minu_e = 5*int(Minu)+5   \n",
    "\n",
    "            dir_lista = 'Lista_'+Ano+'_'+Mes+'_'+Dia+'_'+Hora+'_'+Minu_s_s+'.csv'\n",
    "            lista = pd.read_csv(data_dir+dir_lista)\n",
    "            \n",
    "            # print('    ',Hora,':',Minu_s_s,dir_lista)\n",
    "\n",
    "            GLM_dia = []\n",
    "            GLM_hora = []\n",
    "            GLM_min = []\n",
    "            GLM_lon = []\n",
    "            GLM_lat = []\n",
    "            \n",
    "            for t in range(len(lista)):\n",
    "\n",
    "                name_v1 = lista['File'][t]\n",
    "                data = Dataset(name_v1,mode = 'r')\n",
    "\n",
    "                lat = data['flash_lat']\n",
    "                lon = data['flash_lon']\n",
    "                area = data['flash_area']\n",
    "                energy = data['flash_energy']\n",
    "\n",
    "                GLM_lat = np.concatenate(([GLM_lat,lat]), axis=0)\n",
    "                GLM_lon = np.concatenate(([GLM_lon,lon]), axis=0)\n",
    "\n",
    "                GLM_flash = pd.DataFrame({'dia':Dia,'hora':Hora,'minuto':Minu_s_s,'Lat':GLM_lat,'Lon':GLM_lon})\n",
    "\n",
    "                if Region == 'America_sul':\n",
    "                    out1 = GLM_flash[(GLM_flash['Lon'] > -85) & (GLM_flash['Lon'] < -30 )]\n",
    "                    out2 = out1[(out1['Lat'] > -45) & (out1['Lat'] < 10 )]\n",
    "\n",
    "                elif Region == 'Sao_paulo':\n",
    "                    out1 = GLM_flash[(GLM_flash['Lon'] > -50) & (GLM_flash['Lon'] < -44 )]\n",
    "                    out2 = out1[(out1['Lat'] > -25) & (out1['Lat'] < -20 )]\n",
    "\n",
    "                else:\n",
    "                    print('ERROR: this option dont exists')\n",
    "                    break\n",
    "\n",
    "                salida = data_out + Ano + '_' + Mes + '_' + Dia + '_' + Hora + '_' + Minu_s_s + '.csv'\n",
    "                export_csv = out2.to_csv(salida, index = None, header=True)                  "
   ]
  },
  {
   "cell_type": "code",
   "execution_count": null,
   "metadata": {},
   "outputs": [],
   "source": []
  }
 ],
 "metadata": {
  "kernelspec": {
   "display_name": "Python 3 (ipykernel)",
   "language": "python",
   "name": "python3"
  },
  "language_info": {
   "codemirror_mode": {
    "name": "ipython",
    "version": 3
   },
   "file_extension": ".py",
   "mimetype": "text/x-python",
   "name": "python",
   "nbconvert_exporter": "python",
   "pygments_lexer": "ipython3",
   "version": "3.9.7"
  }
 },
 "nbformat": 4,
 "nbformat_minor": 4
}
